{
  "cells": [
    {
      "metadata": {
        "_uuid": "eb4effad5f3b7df1cea3d1ea9fbaafb7de08014f",
        "_cell_guid": "a6106108-9362-40c7-9828-768a7a33d21f",
        "trusted": false,
        "collapsed": true
      },
      "cell_type": "code",
      "source": "# This Python 3 environment comes with many helpful analytics libraries installed\n# It is defined by the kaggle/python docker image: https://github.com/kaggle/docker-python\n# For example, here's several helpful packages to load in \n\nimport numpy as np # linear algebra\nimport pandas as pd # data processing, CSV file I/O (e.g. pd.read_csv)\n\n# Input data files are available in the \"../input/\" directory.\n# For example, running this (by clicking run or pressing Shift+Enter) will list the files in the input directory\nimport matplotlib\nfrom subprocess import check_output\nprint(check_output([\"ls\", \"../input\"]).decode(\"utf8\"))\ntrain = pd.read_csv('../input/train.csv')\n# Any results you write to the current directory are saved as output.",
      "execution_count": null,
      "outputs": []
    },
    {
      "metadata": {
        "_uuid": "0bce017143ce95d3f0c9e761cfafdddb9e3926ca",
        "_cell_guid": "ef97e244-a48e-43f8-a6c0-897c4844879d",
        "collapsed": true,
        "trusted": false
      },
      "cell_type": "code",
      "source": "",
      "execution_count": null,
      "outputs": []
    },
    {
      "metadata": {
        "_uuid": "a30e1ddcfe6e85283e3faf96f9a62be2a61a4cee",
        "_cell_guid": "4e5b4042-735f-4426-8d25-60697da6e1f4",
        "collapsed": true,
        "trusted": false
      },
      "cell_type": "code",
      "source": "",
      "execution_count": null,
      "outputs": []
    },
    {
      "metadata": {
        "_uuid": "e1da37f653e531bdfb817e07f276f9fce2943565",
        "_cell_guid": "7f29d5f6-bde0-4fb2-abab-31b399f3e2b6",
        "collapsed": true,
        "trusted": false
      },
      "cell_type": "code",
      "source": "y = train['SalePrice']\nx1 = train.drop(['SalePrice'],axis = 1)",
      "execution_count": null,
      "outputs": []
    },
    {
      "metadata": {
        "_uuid": "a5bf52f22b44b314b15301b9af452c3040ec9a5b",
        "_cell_guid": "7eedf95a-2b07-4d57-903f-45c2889d992e",
        "collapsed": true,
        "trusted": false
      },
      "cell_type": "code",
      "source": "\n",
      "execution_count": null,
      "outputs": []
    },
    {
      "metadata": {
        "_uuid": "1f386978a97b098e3a311cc614b23a3634ffffd1",
        "_cell_guid": "84ce5c64-161d-43a0-8f8d-decd4410bbdb",
        "trusted": false,
        "collapsed": true
      },
      "cell_type": "code",
      "source": "##wait to run\n#x = pd.get_dummies(x)\n#x = x.fillna(x.mean(),axis = 0)\n#x.shape\ntest1 = pd.read_csv('../input/test.csv')\n#test = pd.get_dummies(test)\n#test = test.fillna(test.mean())\n#test.shape\ntest1.head()",
      "execution_count": null,
      "outputs": []
    },
    {
      "metadata": {
        "_uuid": "06f2f05fc5627e2f61af495d10042c3101728570",
        "_cell_guid": "0f448def-1da1-4dff-bbe6-40b726b91a3d",
        "collapsed": true,
        "trusted": false
      },
      "cell_type": "code",
      "source": "all_data = pd.concat((x1.loc[:,'MSSubClass':'SaleCondition'],test1.loc[:,'MSSubClass':'SaleCondition']))\nall_data = pd.get_dummies(all_data)\nall_data = all_data.fillna(all_data.mean())\n\nx = all_data[:x1.shape[0]]\ntest = all_data[x1.shape[0]:]\n\n",
      "execution_count": null,
      "outputs": []
    },
    {
      "metadata": {
        "_uuid": "bccb9b88d1c4254094bf8a1b1151045ea7e1d5d5",
        "_cell_guid": "fc4c4c0f-f9d5-4b2a-96ee-cfecbb156c9e",
        "collapsed": true,
        "trusted": false
      },
      "cell_type": "code",
      "source": "\n#first try on xgboost\nimport xgboost as xgb\nfrom pandas import DataFrame\n\nbst =xgb.XGBRegressor()\nbst.fit(x,y,verbose = True)\npreds = bst.predict(test)\n",
      "execution_count": null,
      "outputs": []
    },
    {
      "metadata": {
        "_uuid": "5fc5bd002d38bc4d1ae0c47aac95dd675f108ef1",
        "_cell_guid": "5ab8c22d-4da1-47f8-a46c-632c67e3a6c3",
        "trusted": false,
        "collapsed": true
      },
      "cell_type": "code",
      "source": "from sklearn import metrics\npreds_train = bst.predict(x)\nmetrics.r2_score(y.values,preds_train)",
      "execution_count": null,
      "outputs": []
    },
    {
      "metadata": {
        "_uuid": "d631294daa08cb4228e659c703399e618853ed47",
        "_cell_guid": "6bfed598-62a8-4799-bb12-b125cbfd47bc",
        "trusted": false,
        "collapsed": true
      },
      "cell_type": "code",
      "source": "#tune the hyperparameters\nfrom xgboost import XGBRegressor\nfrom sklearn import cross_validation,metrics\nfrom sklearn.grid_search import GridSearchCV",
      "execution_count": null,
      "outputs": []
    },
    {
      "metadata": {
        "_uuid": "02224fc9e046bf838ca041767dbb424206b6fcb5",
        "_cell_guid": "408de2d5-8399-48ad-b7be-d3872c72a6b9",
        "collapsed": true,
        "trusted": false
      },
      "cell_type": "code",
      "source": "#define the valuation\ndef modelfit(alg,x,y,useTrainCV = True, cv_folds = 5,early_stopping_rounds = 100):\n    alg.fit(x,y,eval_metric = 'rmse')\n    train_pred = alg.predict(x)\n    print (\"\\n for this model\")\n    print (metrics.r2_score(y,train_pred))\n",
      "execution_count": null,
      "outputs": []
    },
    {
      "metadata": {
        "_uuid": "028e5cd1a53be6909eb51601b0c61134a38af73b",
        "_cell_guid": "b3dc150f-c7f0-4f10-8cd9-5e8b9dffcbc3",
        "collapsed": true,
        "trusted": false
      },
      "cell_type": "code",
      "source": "#parameters setting\nxgb1 = XGBRegressor(base_score = 0.5,colsample_bylevel = 1, colsample_bytree = 1,\n                   gamma = 0,\n                   learning_rate = 0.1,\n                   max_delta_step = 0,\n                   max_depth = 3,\n                   min_child_weight = 1,\n                   missing = None,\n                   n_estimator = 100,\n                   nthread = 1,\n                   objective = 'reg:linear',\n                   reg_alpha = 0,\n                   reg_lambda = 1,\n                   scale_pos_weight = 1,\n                   silent = True,\n                   subsample = 1)\nmodelfit(xgb1,x,y)",
      "execution_count": null,
      "outputs": []
    },
    {
      "metadata": {
        "_uuid": "7d5b89458d7b5e1a8b028f90cb43fd5f3edc914a",
        "_cell_guid": "df7be510-77a7-4a2f-952b-05a12bad274e",
        "collapsed": true,
        "trusted": false
      },
      "cell_type": "code",
      "source": "#use GridSearchCV to find better model\nparam_test1 = {\n    'max_depth':[3,5,7,9],\n    'min_child_weight':[2,4,6,8]\n}\n\ngsearch1 = GridSearchCV(estimator = XGBRegressor(base_score = 0.5,\n                                                 colsample_bylevel = 1, \n                                                 colsample_bytree = 1,\n                                                 gamma = 0,\n                                                 learning_rate = 0.1,\n                                                max_delta_step = 0,\n                   missing = None,\n                   n_estimator = 100,\n                   nthread = -1,\n                   objective = 'reg:linear',\n                   reg_alpha = 0,\n                   reg_lambda = 1,\n                   scale_pos_weight = 1,\n                   silent = True,\n                   subsample = 1),\n                   param_grid = param_test1, scoring = 'r2',cv = 5)\ngsearch1.fit(x,y)\n                   ",
      "execution_count": null,
      "outputs": []
    },
    {
      "metadata": {
        "_uuid": "5867d8c000c632c79ec9eb925dd2f453d2dd1203",
        "_cell_guid": "ac515921-63db-4d68-9bc6-21ff741930b7",
        "collapsed": true,
        "trusted": false
      },
      "cell_type": "code",
      "source": "gsearch1.grid_scores_,gsearch1.best_params_,gsearch1.best_score_",
      "execution_count": null,
      "outputs": []
    },
    {
      "metadata": {
        "_uuid": "f9aecfced0833750a04d57b69d08401f2e12021e",
        "_cell_guid": "e385e373-d97c-44fb-b551-f97d40882830",
        "collapsed": true,
        "trusted": false
      },
      "cell_type": "code",
      "source": "param_test2 = {\n    'max_depth':[6,7,8],\n    'min_child_weight':[3,4,5]\n}\n\ngsearch2 = GridSearchCV(estimator = XGBRegressor(base_score = 0.5,\n                                                 colsample_bylevel = 1, \n                                                 colsample_bytree = 1,\n                                                 gamma = 0,\n                                                 learning_rate = 0.1,\n                                                max_delta_step = 0,\n                   missing = None,\n                   n_estimator = 100,\n                   nthread = -1,\n                   objective = 'reg:linear',\n                   reg_alpha = 0,\n                   reg_lambda = 1,\n                   scale_pos_weight = 1,\n                   silent = True,\n                   subsample = 1),\n                   param_grid = param_test2, scoring = 'r2',cv = 5)\ngsearch2.fit(x,y)",
      "execution_count": null,
      "outputs": []
    },
    {
      "metadata": {
        "_uuid": "95e34d3e69280e47a5d0626d4b78645b95e37767",
        "_cell_guid": "14fa85d0-77ba-4b1a-9667-aab542751470",
        "collapsed": true,
        "trusted": false
      },
      "cell_type": "code",
      "source": "gsearch2.grid_scores_,gsearch2.best_params_,gsearch2.best_score_",
      "execution_count": null,
      "outputs": []
    },
    {
      "metadata": {
        "_uuid": "506569534d51f1d29d1d9519ad6984bff4863a1c",
        "_cell_guid": "5bcfc607-5503-4625-a5e7-d576a6de3e11",
        "collapsed": true,
        "trusted": false
      },
      "cell_type": "code",
      "source": "#parameters setting\nxgb2 = XGBRegressor(base_score = 0.5,colsample_bylevel = 0.7, colsample_bytree =0.75,\n                    max_depth = 8,\n                    min_child_weight = 3,\n                   gamma = 0,\n                   learning_rate = 0.1,\n                   max_delta_step = 0,\n                   missing = None,\n                   n_estimator = 100,\n                   nthread = 1,\n                   objective = 'reg:linear',\n                   reg_alpha = 0,\n                   reg_lambda = 1,\n                   scale_pos_weight = 1,\n                   silent = True,\n                   subsample = 1)\nmodelfit(xgb2,x,y)",
      "execution_count": null,
      "outputs": []
    },
    {
      "metadata": {
        "_uuid": "efaf5981215fb0579f149a742813c3039c388ab6",
        "_cell_guid": "518bf5b0-b487-403e-86fd-cd5dbf483917",
        "collapsed": true,
        "trusted": false
      },
      "cell_type": "code",
      "source": "#parameters setting\nxgb3 = XGBRegressor(base_score = 0.5,colsample_bylevel = 0.7, colsample_bytree =0.75,\n                    max_depth = 6,\n                    min_child_weight = 4,\n                   gamma = 0,\n                   learning_rate = 0.7,\n                   max_delta_step = 0,\n                   missing = None,\n                   n_estimator = 4000,\n                   nthread = -1,\n                   objective = 'reg:linear',\n                   reg_alpha = 100,\n                   reg_lambda = 0.8,\n                   scale_pos_weight = 1,\n                   silent = True,\n                   subsample = 1)\nmodelfit(xgb3,x,y)\nxgb3.fit(x,y)",
      "execution_count": null,
      "outputs": []
    },
    {
      "metadata": {
        "_uuid": "2b098c64cc5b7a493cf0a5f75d33cc70e2777568",
        "_cell_guid": "a536002b-0f10-4068-b28d-c52aea9afdb1",
        "collapsed": true,
        "trusted": false
      },
      "cell_type": "code",
      "source": "xgb_preds = xgb3.predict(test)\n#test1.Id.shape\n#test.shape\n#solution = pd.DataFrame({\"id\":test1.Id, \"SalePrice\":preds})\n#solution.to_csv(\"ridge_sol.csv\", index = False)",
      "execution_count": null,
      "outputs": []
    },
    {
      "metadata": {
        "_uuid": "368a855c83301c9c2db1aaf3682ff34f6067c120",
        "_cell_guid": "b538d55e-7d29-4715-b012-4bba31bea93f",
        "collapsed": true,
        "trusted": false
      },
      "cell_type": "code",
      "source": "#Version2 LR",
      "execution_count": null,
      "outputs": []
    },
    {
      "metadata": {
        "_uuid": "9ba64bb072fecdd841a59b86078ecb8b333f6883",
        "_cell_guid": "f5541638-49f7-4757-8fa0-99381773e9cd",
        "collapsed": true,
        "trusted": false
      },
      "cell_type": "code",
      "source": "from sklearn.linear_model import Ridge, RidgeCV, ElasticNet, LassoCV, LassoLarsCV\nfrom sklearn.model_selection import cross_val_score\n\ndef rmse_cv(model):\n    rmse= np.sqrt(-cross_val_score(model, x, y, scoring=\"neg_mean_squared_error\", cv = 5))\n    return(rmse)",
      "execution_count": null,
      "outputs": []
    },
    {
      "metadata": {
        "_uuid": "d52bf92d2fa1eab75ea9d98c616da10e14131849",
        "_cell_guid": "52fb8752-6e31-48f1-997f-1bfac32eec72",
        "collapsed": true,
        "trusted": false
      },
      "cell_type": "code",
      "source": "model_ridge = Ridge()",
      "execution_count": null,
      "outputs": []
    },
    {
      "metadata": {
        "_uuid": "f601ae45d030d5968a818332faa6dcbb43562ad0",
        "_cell_guid": "fa319f33-417d-4586-98cb-b8c8cedad111",
        "collapsed": true,
        "trusted": false
      },
      "cell_type": "code",
      "source": "#search for the best regularization parameter\nalphas = [0.05, 0.1, 0.3, 1, 3, 5, 10, 15, 30, 50, 75]\ncv_ridge = [rmse_cv(Ridge(alpha = alpha)).mean() for alpha in alphas]\nimport matplotlib.pyplot as plt\n\n\n\n%config InlineBackend.figure_format = 'retina' #set 'png' here when working on notebook\n%matplotlib inline",
      "execution_count": null,
      "outputs": []
    },
    {
      "metadata": {
        "_uuid": "54993e89454fd282f3b1a0d0ec9c40594c730fa3",
        "_cell_guid": "97e83e90-6a3a-4a1f-98b4-289a82080fd9",
        "collapsed": true,
        "trusted": false
      },
      "cell_type": "code",
      "source": "cv_ridge = pd.Series(cv_ridge,index = alphas)\ncv_ridge.plot(title = 'Validation')\nplt.xlabel('alpha')\nplt.ylabel('rmse')\ncv_ridge.min()",
      "execution_count": null,
      "outputs": []
    },
    {
      "metadata": {
        "_uuid": "9f6ff8d6352dbb5a00cb5d0caf14629a6c8f7709",
        "_cell_guid": "b0c80570-35ae-47d1-91e1-ddd4500fe0b9",
        "collapsed": true,
        "trusted": false
      },
      "cell_type": "code",
      "source": "#Lasso\nmodel_lasso = LassoCV(alphas = [1, 0.1, 0.001, 0.0005]).fit(x, y)\nrmse_cv(model_lasso).mean()",
      "execution_count": null,
      "outputs": []
    },
    {
      "metadata": {
        "_uuid": "42c079ac5f51d88c8ceb5517c93820369396a711",
        "_cell_guid": "523c9f76-87e7-44cd-a4bd-b3d14dcee431",
        "collapsed": true,
        "trusted": false
      },
      "cell_type": "code",
      "source": "coef = pd.Series(model_lasso.coef_, index = x.columns)\nprint(\"Lasso picked \" + str(sum(coef != 0)) + \" variables and eliminated the other \" +  str(sum(coef == 0)) + \" variables\")",
      "execution_count": null,
      "outputs": []
    },
    {
      "metadata": {
        "_uuid": "340ea220cb080a6d9fb94a3f722afceee28c78d3",
        "_cell_guid": "ec95379d-d51e-4d66-b04e-7e1933017530",
        "collapsed": true,
        "trusted": false
      },
      "cell_type": "code",
      "source": "imp_coef = pd.concat([coef.sort_values().head(10),\n                     coef.sort_values().tail(10)])\nimp_coef",
      "execution_count": null,
      "outputs": []
    },
    {
      "metadata": {
        "_uuid": "90fa1f2ed45a3a59dbc211f44a3d08f530041fcd",
        "_cell_guid": "b63ea0cf-8bf9-4cd6-9ea8-7e14742ab927",
        "collapsed": true,
        "trusted": false
      },
      "cell_type": "code",
      "source": "matplotlib.rcParams['figure.figsize'] = (8.0, 10.0)\nimp_coef.plot(kind = \"barh\")\nplt.title(\"Coefficients in the Lasso Model\")",
      "execution_count": null,
      "outputs": []
    },
    {
      "metadata": {
        "_uuid": "87394bbc205be64bfa794cc153150f55a2e9cb9b",
        "_cell_guid": "cbd0e9b5-c926-4761-b032-3d22ad8c8222",
        "collapsed": true,
        "trusted": false
      },
      "cell_type": "code",
      "source": "matplotlib.rcParams['figure.figsize'] = (6.0, 6.0)\n\npreds = pd.DataFrame({\"preds\":model_lasso.predict(x), \"true\":y})\npreds[\"residuals\"] = preds[\"true\"] - preds[\"preds\"]\npreds.plot(x = \"preds\", y = \"residuals\",kind = \"scatter\")",
      "execution_count": null,
      "outputs": []
    },
    {
      "metadata": {
        "_uuid": "a51f0cc30da9c862631fd464fc9b88f73e2877a8",
        "_cell_guid": "f31bf9f6-6acc-4ee2-ae2c-29c7e4920f10",
        "collapsed": true,
        "trusted": false
      },
      "cell_type": "code",
      "source": "lr_preds = model_lasso.predict(test)\npreds = 0.7*lr_preds + 0.3*xgb_preds\npred_train = 0.3* model_lasso.predict(x) + 0.7* xgb3.predict(x)\nmetrics.r2_score(y,pred_train)",
      "execution_count": null,
      "outputs": []
    },
    {
      "metadata": {
        "_uuid": "18741bcbc5273814435d1c76bc8d158a499e215e",
        "_cell_guid": "30dcea2f-ac21-49cc-9fd1-e13a1833c24f",
        "collapsed": true,
        "trusted": false
      },
      "cell_type": "code",
      "source": "#solution = pd.DataFrame({\"id\":test1.Id, \"SalePrice\":preds})\n#solution.to_csv(\"ridge_sol.csv\", index = False)",
      "execution_count": null,
      "outputs": []
    },
    {
      "metadata": {
        "_uuid": "dd1f0014686ec635eb33884e6d45528d384bf9b7",
        "_cell_guid": "47983396-38ad-4d18-9782-a75cf810ecbf",
        "collapsed": true,
        "trusted": false
      },
      "cell_type": "code",
      "source": "#V3 add neural network\n\nfrom keras.layers import Dense\nfrom keras.models import Sequential\nfrom keras.regularizers import l1\nfrom sklearn.preprocessing import StandardScaler\nfrom sklearn.model_selection import train_test_split",
      "execution_count": null,
      "outputs": []
    },
    {
      "metadata": {
        "_uuid": "eee835e375d9269159a702be649737e0d8f3fbda",
        "_cell_guid": "a7fe362f-b54e-4c13-8f76-44bc0df3c9ef",
        "collapsed": true,
        "trusted": false
      },
      "cell_type": "code",
      "source": "x_nn = StandardScaler().fit_transform(x)\nx_tr,x_val,y_tr,y_val = train_test_split(x_nn,y,random_state =3 )\n",
      "execution_count": null,
      "outputs": []
    },
    {
      "metadata": {
        "_uuid": "e39916417cc2fd57815a6a2e128c2ccd7f5ce00f",
        "_cell_guid": "3a8092d0-f9b4-4671-b670-d4f4c6813c12",
        "collapsed": true,
        "trusted": false
      },
      "cell_type": "code",
      "source": "model = Sequential()\nmodel.add(Dense(1,input_dim = x.shape[1], W_regularizer=l1(0.001)))\n\nmodel.compile(loss = 'mse',optimizer = 'adam')",
      "execution_count": null,
      "outputs": []
    },
    {
      "metadata": {
        "_uuid": "a81d75c0a916dc91a900b48acc985c9abae820ae",
        "_cell_guid": "dd5fd4ba-d19e-4d61-9ca6-aa97e180c2b0",
        "collapsed": true,
        "trusted": false
      },
      "cell_type": "code",
      "source": "hist = model.fit(x_tr,y_tr,validation_data = (x_val,y_val))",
      "execution_count": null,
      "outputs": []
    },
    {
      "metadata": {
        "_uuid": "90ec3d4848e54280275ee62162716780a728a600",
        "_cell_guid": "a271eb5f-9b1b-4ab6-9bbf-13087d73ac85",
        "collapsed": true,
        "trusted": false
      },
      "cell_type": "code",
      "source": "nn_preds = model.predict(x_nn)",
      "execution_count": null,
      "outputs": []
    },
    {
      "metadata": {
        "_uuid": "2cdc22698ba502ba18e9a4d1484d5f794ca1f21a",
        "_cell_guid": "f073756c-e026-416b-aea7-3e2cfcd2312b",
        "collapsed": true,
        "trusted": false
      },
      "cell_type": "code",
      "source": "pd.Series(model.predict(x_nn)[:,0])",
      "execution_count": null,
      "outputs": []
    },
    {
      "metadata": {
        "_uuid": "e0a63fdaa9f88e5eafba24e486d1813911e8c0b0",
        "_cell_guid": "4ae86fb2-51a9-486d-a564-9f9b0bc3a3f2",
        "collapsed": true,
        "trusted": false
      },
      "cell_type": "code",
      "source": "pred_train = 0.1* model_lasso.predict(x) + 0.8* xgb3.predict(x) + 0.1 * pd.Series(model.predict(x_nn)[:,0])\nmetrics.r2_score(y,pred_train)\n",
      "execution_count": null,
      "outputs": []
    },
    {
      "metadata": {
        "_uuid": "93484a7cfeab6463e39060520fd2079ba26f0317",
        "_cell_guid": "83489d67-cec0-409b-a979-712198e35d21",
        "collapsed": true,
        "trusted": false
      },
      "cell_type": "code",
      "source": "preds = 0.1* model_lasso.predict(test) + 0.8* xgb3.predict(test) + 0.1 * pd.Series(model.predict(test)[:,0])",
      "execution_count": null,
      "outputs": []
    },
    {
      "metadata": {
        "_uuid": "cba855b2a2f18de117c35eb81bdaf5de181e0a60",
        "_cell_guid": "1bc171b4-1190-4bee-95dc-e24dcf2e57ea",
        "collapsed": true,
        "trusted": false
      },
      "cell_type": "code",
      "source": "solution = pd.DataFrame({\"id\":test1.Id, \"SalePrice\":preds})\nsolution.to_csv(\"ridge_sol.csv\", index = False)",
      "execution_count": null,
      "outputs": []
    },
    {
      "metadata": {
        "_uuid": "0703fa8a36b58a77118decd7926b350873344824",
        "_cell_guid": "4f94ce46-8c35-41cd-82b5-a261377008d2",
        "collapsed": true,
        "trusted": false
      },
      "cell_type": "code",
      "source": "#The third combination worked worse than the second version",
      "execution_count": null,
      "outputs": []
    },
    {
      "metadata": {
        "_uuid": "0f48f9047ca159a3e28d4e3aed493566473c38c5",
        "_cell_guid": "48c3cf07-1a79-4681-8ca5-e673dd9ddf95",
        "collapsed": true,
        "trusted": false
      },
      "cell_type": "code",
      "source": "",
      "execution_count": null,
      "outputs": []
    }
  ],
  "metadata": {
    "language_info": {
      "name": "python",
      "version": "3.6.4",
      "mimetype": "text/x-python",
      "codemirror_mode": {
        "name": "ipython",
        "version": 3
      },
      "pygments_lexer": "ipython3",
      "nbconvert_exporter": "python",
      "file_extension": ".py"
    },
    "kernelspec": {
      "display_name": "Python 3",
      "language": "python",
      "name": "python3"
    }
  },
  "nbformat": 4,
  "nbformat_minor": 1
}